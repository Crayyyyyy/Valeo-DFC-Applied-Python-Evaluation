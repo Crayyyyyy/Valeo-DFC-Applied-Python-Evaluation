{
    "cells": [
        {
            "cell_type": "code",
            "execution_count": 188,
            "metadata": {},
            "outputs": [],
            "source": [
                "from random import uniform, randrange\n",
                "\n",
                "from values import Value\n",
                "import pandas as pd"
            ]
        },
        {
            "cell_type": "code",
            "execution_count": null,
            "metadata": {},
            "outputs": [],
            "source": [
                "class Timestamp(Value):    \n",
                "    def increment(self):\n",
                "        temp = self.value + (27_700 + uniform(-50, 50))\n",
                "        self.value = round(temp, 6)\n",
                "        \n",
                "class FrameID(Value):\n",
                "    def increment(self):\n",
                "        self.value += 1\n",
                "        \n",
                "class Speed(Value):\n",
                "    def increment(self):\n",
                "        if(self.value >= 120):\n",
                "            self.value = round(120 + uniform(-0.05, 0.05), 2)\n",
                "        else:\n",
                "            self.value = round(self.value + 0.08, 2)\n",
                "\n",
                "class YawRate(Value):\n",
                "    def increment(self):\n",
                "        self.value = uniform(-1,1)\n",
                " \n",
                "class Signal1(Value):\n",
                "    def increment(self, frameID: int):\n",
                "        if frameID == 201:\n",
                "            self.value = randrange(1,16, 1)\n",
                "\n",
                "class Signal2(Value):\n",
                "    def increment(self, signal1: int):\n",
                "        if signal1 < 5:\n",
                "            self.value = 0\n",
                "        else:\n",
                "            self.value = 80 + randrange(-10,10, 1)"
            ]
        },
        {
            "cell_type": "code",
            "execution_count": null,
            "metadata": {},
            "outputs": [],
            "source": [
                "def generate_front_camera_data(output_file = \"f_cam_out.csv\", number_of_frames = 2000):\n",
                "    timestamp = Timestamp(100_000_000, \"μs\")\n",
                "    frameID = FrameID(100, \"#\")\n",
                "    speed = Speed(60, \"km/h\")\n",
                "    yawRate = YawRate(0, \"deg/sec\")\n",
                "    signal1 = Signal1(0, \"#\")\n",
                "    signal2 = Signal2(0, \"#\")\n",
                "\n",
                "    pairs = {\n",
                "        timestamp : [timestamp.value],\n",
                "        frameID : [frameID.value],\n",
                "        speed : [speed.value],\n",
                "        yawRate : [yawRate.value],\n",
                "        signal1 : [signal1.value],\n",
                "        signal2 : [signal2.value]\n",
                "    }\n",
                "    for i in range(number_of_frames-1):\n",
                "        for obj, arr in pairs.items():\n",
                "            if isinstance(obj, Signal1):\n",
                "                obj.increment(frameID.value)\n",
                "            elif isinstance(obj, Signal2):\n",
                "                obj.increment(signal1.value)\n",
                "            else:\n",
                "                obj.increment()\n",
                "            arr.append(obj.value)\n",
                "\n",
                "    df = pd.DataFrame({\n",
                "        \"Timestamp\" : pairs[timestamp],\n",
                "        \"FrameID\" : pairs[frameID],\n",
                "        \"Speed\" : pairs[speed],\n",
                "        \"YawRate\" : pairs[yawRate],\n",
                "        \"Signal1\" : pairs[signal1],\n",
                "        \"Signal2\" : pairs[signal2],\n",
                "    })\n",
                "\n",
                "    df.to_csv(output_file, index=False)\n"
            ]
        },
        {
            "cell_type": "code",
            "execution_count": 187,
            "metadata": {},
            "outputs": [],
            "source": [
                "dataFrame = generate_front_camera_data()"
            ]
        }
    ],
    "metadata": {
        "kernelspec": {
            "display_name": "env",
            "language": "python",
            "name": "python3"
        },
        "language_info": {
            "codemirror_mode": {
                "name": "ipython",
                "version": 3
            },
            "file_extension": ".py",
            "mimetype": "text/x-python",
            "name": "python",
            "nbconvert_exporter": "python",
            "pygments_lexer": "ipython3",
            "version": "3.13.2"
        }
    },
    "nbformat": 4,
    "nbformat_minor": 2
}