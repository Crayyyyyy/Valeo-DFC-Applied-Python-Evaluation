{
 "cells": [
  {
   "cell_type": "code",
   "execution_count": null,
   "metadata": {},
   "outputs": [],
   "source": [
    "from abc import ABC, abstractmethod\n",
    "from random import uniform, randrange\n",
    "\n",
    "class Value(ABC):\n",
    "    def __init__(self, initial_value, metric):\n",
    "        self.value = initial_value \n",
    "        self.metric = metric\n",
    "\n",
    "    @abstractmethod\n",
    "    def increment(self):\n",
    "        pass\n",
    "    \n",
    "\n",
    "class Timestamp(Value):    \n",
    "    def increment(self):\n",
    "        temp = self.value + (27700 + uniform(-50, 50))\n",
    "        self.value = round(temp, 6)\n",
    "        \n",
    "class FrameID(Value):\n",
    "    def increment(self):\n",
    "        if(self.value == 2100):\n",
    "            return 0\n",
    "        else:\n",
    "            self.value += 1\n",
    "        \n",
    "class Speed(Value):\n",
    "    def increment(self):\n",
    "        if(self.value >= 120):\n",
    "            self.value = round(120 + uniform(-0.05, 0.05), 2)\n",
    "        else:\n",
    "            self.value = round(self.value + 0.08, 2)\n",
    "\n",
    "class YawRate(Value):\n",
    "    def increment(self):\n",
    "        self.value = uniform(-1,1)\n",
    " \n",
    "class Signal1(Value):\n",
    "    def increment(self, frameID: int):\n",
    "        if frameID == 200:\n",
    "            self.value = randrange(1,16, 1)\n",
    "\n",
    "class Signal2(Value):\n",
    "    def increment(self, signal1: int):\n",
    "        if signal1 < 5:\n",
    "            self.value = 0\n",
    "        else:\n",
    "            self.value = 80 + randrange(-10,10, 1)\n"
   ]
  }
 ],
 "metadata": {
  "kernelspec": {
   "display_name": "env",
   "language": "python",
   "name": "python3"
  },
  "language_info": {
   "codemirror_mode": {
    "name": "ipython",
    "version": 3
   },
   "file_extension": ".py",
   "mimetype": "text/x-python",
   "name": "python",
   "nbconvert_exporter": "python",
   "pygments_lexer": "ipython3",
   "version": "3.13.2"
  }
 },
 "nbformat": 4,
 "nbformat_minor": 2
}
