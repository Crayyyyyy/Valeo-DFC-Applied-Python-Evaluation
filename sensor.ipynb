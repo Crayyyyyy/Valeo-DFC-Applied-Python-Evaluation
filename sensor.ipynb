{
    "cells": [
        {
            "cell_type": "code",
            "execution_count": 1,
            "metadata": {},
            "outputs": [],
            "source": [
                "import pandas as pd\n",
                "from values import Value\n",
                "from random import randrange, uniform"
            ]
        },
        {
            "cell_type": "code",
            "execution_count": 2,
            "metadata": {},
            "outputs": [],
            "source": [
                "class Timestamp(Value):\n",
                "    def increment(self):\n",
                "        self.value += 200_000 + randrange(-10_000, 10_000, 1)\n",
                "        self.value = round(self.value, 6)\n",
                "\n",
                "class Speed(Value):\n",
                "    def increment(self):\n",
                "        if self.value >= 120.0:\n",
                "            self.value = 120.0 + uniform(-0.1,0.1)\n",
                "            self.value = round(self.value, 2)\n",
                "        else:\n",
                "            self.value += 0.56\n",
                "            self.value = round(self.value, 2)"
            ]
        },
        {
            "cell_type": "code",
            "execution_count": null,
            "metadata": {},
            "outputs": [],
            "source": [
                "def generate_sensor_data(output_file = \"sensor_out.csv\", number_of_frames = 2000):\n",
                "    timestamp = Timestamp(100_000_000, \"μs\")\n",
                "    speed = Speed(60, \"km/h\")\n",
                "\n",
                "    pairs = {\n",
                "        timestamp : [timestamp.value],\n",
                "        speed : [speed.value]\n",
                "    }\n",
                "    while(timestamp.value <= 160_000_000):\n",
                "        for obj, arr in pairs.items():\n",
                "            obj.increment()\n",
                "            arr.append(obj.value)\n",
                "\n",
                "    df = pd.DataFrame({\n",
                "        \"Timestamp\" : pairs[timestamp],\n",
                "        \"Speed\" : pairs[speed],\n",
                "    })\n",
                "\n",
                "    df.to_csv(output_file, index=False)"
            ]
        },
        {
            "cell_type": "code",
            "execution_count": 4,
            "metadata": {},
            "outputs": [
                {
                    "name": "stdout",
                    "output_type": "stream",
                    "text": [
                        "The dataframe has 302 rows.\n"
                    ]
                }
            ],
            "source": [
                "generate_sensor_data()"
            ]
        }
    ],
    "metadata": {
        "kernelspec": {
            "display_name": "env",
            "language": "python",
            "name": "python3"
        },
        "language_info": {
            "codemirror_mode": {
                "name": "ipython",
                "version": 3
            },
            "file_extension": ".py",
            "mimetype": "text/x-python",
            "name": "python",
            "nbconvert_exporter": "python",
            "pygments_lexer": "ipython3",
            "version": "3.13.2"
        }
    },
    "nbformat": 4,
    "nbformat_minor": 2
}